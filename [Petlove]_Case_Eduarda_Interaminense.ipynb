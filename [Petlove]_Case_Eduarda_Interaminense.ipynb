{
  "nbformat": 4,
  "nbformat_minor": 0,
  "metadata": {
    "colab": {
      "provenance": [],
      "authorship_tag": "ABX9TyPzm0Qmn01aw5DfxZhAnu/0",
      "include_colab_link": true
    },
    "kernelspec": {
      "name": "python3",
      "display_name": "Python 3"
    },
    "language_info": {
      "name": "python"
    }
  },
  "cells": [
    {
      "cell_type": "markdown",
      "metadata": {
        "id": "view-in-github",
        "colab_type": "text"
      },
      "source": [
        "<a href=\"https://colab.research.google.com/github/hodeaven/CASE_PETLOVE_EDUARDA_INTERAMINENSE/blob/main/%5BPetlove%5D_Case_Eduarda_Interaminense.ipynb\" target=\"_parent\"><img src=\"https://colab.research.google.com/assets/colab-badge.svg\" alt=\"Open In Colab\"/></a>"
      ]
    },
    {
      "cell_type": "markdown",
      "source": [
        "#  **Petlove - Case Estágio Dados** 🐾❤️\n",
        "\n",
        "---\n",
        "\n",
        "\n",
        "### 👉 **Introdução**\n",
        "\n",
        "A Petlove oferece planos de saúde para pets deseja melhorar a retenção de clientes e a adesão a novos planos. Para isso, a empresa precisa entender melhor o comportamento dos clientes atuais e identificar padrões que possam indicar o risco de cancelamento ou oportunidades de venda de planos adicionais.\n",
        "\n",
        "### 🎯 **Objetivo**\n",
        "\n",
        "O objetivo deste case é analisar os dados de clientes e fornecer insights para melhorar a retenção e aumentar a adesão a novos planos de saúde pet.\n",
        "\n",
        "\n",
        "### 🧩 **Informações sobre o conjunto de dados**\n",
        "\n",
        "- Cliente ID;\n",
        "\n",
        "- Pet ID;\n",
        "\n",
        "- Plano Atual;\n",
        "\n",
        "- Data de Adesão;\n",
        "\n",
        "- Número de Consultas;\n",
        "\n",
        "- Uso de Serviços Adicionais;\n",
        "\n",
        "- Valor Mensal (R$);\n",
        "\n",
        "- Cancelamento (Sim/Não).\n"
      ],
      "metadata": {
        "id": "HEF7PWApthIk"
      }
    },
    {
      "cell_type": "markdown",
      "source": [
        "Incialmente iremos instalar e configurar o ambiente com o objetivo de atender as condições necessárias e importar bibliotecas fundamentais para a execução deste desafio. DIante disto iremos realizar a analise exploratória dos dados"
      ],
      "metadata": {
        "id": "sYswPPr0uz4f"
      }
    },
    {
      "cell_type": "code",
      "source": [
        "# Bibliotecas utilizadas para ter acesso e leitura aos dados diretamente do Google Drive\n",
        "from google.colab import drive\n",
        "import pandas as pd\n",
        "\n",
        "# Utilizada para converter valores categóricos em númericos\n",
        "from sklearn.preprocessing import LabelEncoder\n"
      ],
      "metadata": {
        "id": "cSy8fopjufGg"
      },
      "execution_count": null,
      "outputs": []
    },
    {
      "cell_type": "code",
      "source": [
        "# Bibliotecas utilizadas para realizar a automação de dados atualizados\n",
        "from google.colab import auth\n",
        "auth.authenticate_user()\n",
        "\n",
        "import gspread\n",
        "from google.auth import default\n",
        "creds, _ = default()\n",
        "\n",
        "gc = gspread.authorize(creds)\n"
      ],
      "metadata": {
        "id": "5RaxwP0vl7GK"
      },
      "execution_count": null,
      "outputs": []
    },
    {
      "cell_type": "code",
      "source": [
        "!pip install kora\n",
        "from kora.xattr import get_id"
      ],
      "metadata": {
        "colab": {
          "base_uri": "https://localhost:8080/"
        },
        "id": "xqKPlIX7mcjI",
        "outputId": "a48808cd-fde3-4f95-8673-c1124c5522a9"
      },
      "execution_count": null,
      "outputs": [
        {
          "output_type": "stream",
          "name": "stdout",
          "text": [
            "Requirement already satisfied: kora in /usr/local/lib/python3.11/dist-packages (0.9.20)\n",
            "Requirement already satisfied: ipython in /usr/local/lib/python3.11/dist-packages (from kora) (7.34.0)\n",
            "Requirement already satisfied: fastcore in /usr/local/lib/python3.11/dist-packages (from kora) (1.7.29)\n",
            "Requirement already satisfied: packaging in /usr/local/lib/python3.11/dist-packages (from fastcore->kora) (24.2)\n",
            "Requirement already satisfied: setuptools>=18.5 in /usr/local/lib/python3.11/dist-packages (from ipython->kora) (75.1.0)\n",
            "Requirement already satisfied: jedi>=0.16 in /usr/local/lib/python3.11/dist-packages (from ipython->kora) (0.19.2)\n",
            "Requirement already satisfied: decorator in /usr/local/lib/python3.11/dist-packages (from ipython->kora) (4.4.2)\n",
            "Requirement already satisfied: pickleshare in /usr/local/lib/python3.11/dist-packages (from ipython->kora) (0.7.5)\n",
            "Requirement already satisfied: traitlets>=4.2 in /usr/local/lib/python3.11/dist-packages (from ipython->kora) (5.7.1)\n",
            "Requirement already satisfied: prompt-toolkit!=3.0.0,!=3.0.1,<3.1.0,>=2.0.0 in /usr/local/lib/python3.11/dist-packages (from ipython->kora) (3.0.50)\n",
            "Requirement already satisfied: pygments in /usr/local/lib/python3.11/dist-packages (from ipython->kora) (2.18.0)\n",
            "Requirement already satisfied: backcall in /usr/local/lib/python3.11/dist-packages (from ipython->kora) (0.2.0)\n",
            "Requirement already satisfied: matplotlib-inline in /usr/local/lib/python3.11/dist-packages (from ipython->kora) (0.1.7)\n",
            "Requirement already satisfied: pexpect>4.3 in /usr/local/lib/python3.11/dist-packages (from ipython->kora) (4.9.0)\n",
            "Requirement already satisfied: parso<0.9.0,>=0.8.4 in /usr/local/lib/python3.11/dist-packages (from jedi>=0.16->ipython->kora) (0.8.4)\n",
            "Requirement already satisfied: ptyprocess>=0.5 in /usr/local/lib/python3.11/dist-packages (from pexpect>4.3->ipython->kora) (0.7.0)\n",
            "Requirement already satisfied: wcwidth in /usr/local/lib/python3.11/dist-packages (from prompt-toolkit!=3.0.0,!=3.0.1,<3.1.0,>=2.0.0->ipython->kora) (0.2.13)\n"
          ]
        }
      ]
    },
    {
      "cell_type": "markdown",
      "source": [
        "Nosso próximo passo é coletar nossos dados que estão dentro do Drive e realizar a leitura do nosso dataframe"
      ],
      "metadata": {
        "id": "lz2Y8FhdSoh2"
      }
    },
    {
      "cell_type": "code",
      "source": [
        "drive.mount('/content/drive')\n",
        "dados = '/content/drive/MyDrive/Petlove/dados_petlove.xlsx'\n",
        "db = pd.read_excel(dados)\n",
        "db"
      ],
      "metadata": {
        "colab": {
          "base_uri": "https://localhost:8080/",
          "height": 1000
        },
        "id": "7qfk22MkvH1V",
        "outputId": "1600974a-cf96-4a1e-b73c-2722a6a50aeb"
      },
      "execution_count": null,
      "outputs": [
        {
          "output_type": "stream",
          "name": "stdout",
          "text": [
            "Drive already mounted at /content/drive; to attempt to forcibly remount, call drive.mount(\"/content/drive\", force_remount=True).\n"
          ]
        },
        {
          "output_type": "execute_result",
          "data": {
            "text/plain": [
              "    Cliente ID  Pet ID Plano Atual Data de Adesão  Número de Consultas  \\\n",
              "0            1     101      Básico     2022-01-15                    5   \n",
              "1            2     102     Premium     2021-09-10                   12   \n",
              "2            3     103    Avançado     2022-05-20                    3   \n",
              "3            4     104      Básico     2021-11-05                    8   \n",
              "4            5     105     Premium     2021-12-22                    7   \n",
              "5            6     106    Avançado     2022-03-18                    4   \n",
              "6            7     107      Básico     2022-02-01                    9   \n",
              "7            8     108     Premium     2021-08-14                   11   \n",
              "8            9     109    Avançado     2022-04-25                    2   \n",
              "9           10     110      Básico     2022-06-15                    6   \n",
              "10          11     111      Básico     2022-01-25                    5   \n",
              "11          12     112     Premium     2021-10-10                   10   \n",
              "12          13     113    Avançado     2022-06-29                    2   \n",
              "13          14     114     Premium     2022-01-04                    3   \n",
              "14          15     115    Avançado     2022-04-01                    5   \n",
              "15          16     116      Básico     2022-03-28                    8   \n",
              "16          17     117     Premium     2022-02-21                   15   \n",
              "17          18     118      Básico     2021-10-03                   16   \n",
              "18          19     119     Premium     2022-07-14                    0   \n",
              "19          19     120     Premium     2022-07-14                    0   \n",
              "20          20     121      Básico     2022-01-25                    8   \n",
              "21          21     122     Premium     2021-10-10                    9   \n",
              "22          22     123    Avançado     2022-06-29                   10   \n",
              "23          23     124      Básico     2022-01-04                    1   \n",
              "24          23     125      Básico     2022-01-04                    7   \n",
              "25          24     126    Avançado     2022-03-28                    6   \n",
              "26          25     127      Básico     2022-02-21                    8   \n",
              "27          26     128     Premium     2021-10-03                    9   \n",
              "28          26     129    Avançado     2022-07-14                   10   \n",
              "\n",
              "   Uso de Serviços Adicionais Valor Mensal (R$) Cancelamento (Sim/Não)  \n",
              "0                         Sim            150,00                    Não  \n",
              "1                         Não            300,00                    Não  \n",
              "2                         Sim            200,00                    Sim  \n",
              "3                         Sim            150,00                    Não  \n",
              "4                         Não            300,00                    Sim  \n",
              "5                         Sim            200,00                    Não  \n",
              "6                         Sim            150,00                    Não  \n",
              "7                         Sim            300,00                    Sim  \n",
              "8                         Não            200,00                    Não  \n",
              "9                         Não            150,00                    Não  \n",
              "10                        Não            150,00                    Não  \n",
              "11                        Sim            300,00                    Não  \n",
              "12                        Não            200,00                    Não  \n",
              "13                        Sim            300,00                    Não  \n",
              "14                        Sim            200,00                    Não  \n",
              "15                        Não            150,00                    Sim  \n",
              "16                        Sim            300,00                    Não  \n",
              "17                        Não            150,00                    Não  \n",
              "18                        Não            300,00                    Sim  \n",
              "19                        Não            300,00                    Sim  \n",
              "20                        Não            150,00                    Não  \n",
              "21                        Sim            300,00                    Não  \n",
              "22                        Não            200,00                    Sim  \n",
              "23                        Sim            150,00                    Não  \n",
              "24                        Sim            150,00                    Não  \n",
              "25                        Não            200,00                    Não  \n",
              "26                        Sim            150,00                    Não  \n",
              "27                        Sim            300,00                    Sim  \n",
              "28                        Sim            200,00                    Sim  "
            ],
            "text/html": [
              "\n",
              "  <div id=\"df-87560f67-dd86-453e-b920-ab90b17ce81e\" class=\"colab-df-container\">\n",
              "    <div>\n",
              "<style scoped>\n",
              "    .dataframe tbody tr th:only-of-type {\n",
              "        vertical-align: middle;\n",
              "    }\n",
              "\n",
              "    .dataframe tbody tr th {\n",
              "        vertical-align: top;\n",
              "    }\n",
              "\n",
              "    .dataframe thead th {\n",
              "        text-align: right;\n",
              "    }\n",
              "</style>\n",
              "<table border=\"1\" class=\"dataframe\">\n",
              "  <thead>\n",
              "    <tr style=\"text-align: right;\">\n",
              "      <th></th>\n",
              "      <th>Cliente ID</th>\n",
              "      <th>Pet ID</th>\n",
              "      <th>Plano Atual</th>\n",
              "      <th>Data de Adesão</th>\n",
              "      <th>Número de Consultas</th>\n",
              "      <th>Uso de Serviços Adicionais</th>\n",
              "      <th>Valor Mensal (R$)</th>\n",
              "      <th>Cancelamento (Sim/Não)</th>\n",
              "    </tr>\n",
              "  </thead>\n",
              "  <tbody>\n",
              "    <tr>\n",
              "      <th>0</th>\n",
              "      <td>1</td>\n",
              "      <td>101</td>\n",
              "      <td>Básico</td>\n",
              "      <td>2022-01-15</td>\n",
              "      <td>5</td>\n",
              "      <td>Sim</td>\n",
              "      <td>150,00</td>\n",
              "      <td>Não</td>\n",
              "    </tr>\n",
              "    <tr>\n",
              "      <th>1</th>\n",
              "      <td>2</td>\n",
              "      <td>102</td>\n",
              "      <td>Premium</td>\n",
              "      <td>2021-09-10</td>\n",
              "      <td>12</td>\n",
              "      <td>Não</td>\n",
              "      <td>300,00</td>\n",
              "      <td>Não</td>\n",
              "    </tr>\n",
              "    <tr>\n",
              "      <th>2</th>\n",
              "      <td>3</td>\n",
              "      <td>103</td>\n",
              "      <td>Avançado</td>\n",
              "      <td>2022-05-20</td>\n",
              "      <td>3</td>\n",
              "      <td>Sim</td>\n",
              "      <td>200,00</td>\n",
              "      <td>Sim</td>\n",
              "    </tr>\n",
              "    <tr>\n",
              "      <th>3</th>\n",
              "      <td>4</td>\n",
              "      <td>104</td>\n",
              "      <td>Básico</td>\n",
              "      <td>2021-11-05</td>\n",
              "      <td>8</td>\n",
              "      <td>Sim</td>\n",
              "      <td>150,00</td>\n",
              "      <td>Não</td>\n",
              "    </tr>\n",
              "    <tr>\n",
              "      <th>4</th>\n",
              "      <td>5</td>\n",
              "      <td>105</td>\n",
              "      <td>Premium</td>\n",
              "      <td>2021-12-22</td>\n",
              "      <td>7</td>\n",
              "      <td>Não</td>\n",
              "      <td>300,00</td>\n",
              "      <td>Sim</td>\n",
              "    </tr>\n",
              "    <tr>\n",
              "      <th>5</th>\n",
              "      <td>6</td>\n",
              "      <td>106</td>\n",
              "      <td>Avançado</td>\n",
              "      <td>2022-03-18</td>\n",
              "      <td>4</td>\n",
              "      <td>Sim</td>\n",
              "      <td>200,00</td>\n",
              "      <td>Não</td>\n",
              "    </tr>\n",
              "    <tr>\n",
              "      <th>6</th>\n",
              "      <td>7</td>\n",
              "      <td>107</td>\n",
              "      <td>Básico</td>\n",
              "      <td>2022-02-01</td>\n",
              "      <td>9</td>\n",
              "      <td>Sim</td>\n",
              "      <td>150,00</td>\n",
              "      <td>Não</td>\n",
              "    </tr>\n",
              "    <tr>\n",
              "      <th>7</th>\n",
              "      <td>8</td>\n",
              "      <td>108</td>\n",
              "      <td>Premium</td>\n",
              "      <td>2021-08-14</td>\n",
              "      <td>11</td>\n",
              "      <td>Sim</td>\n",
              "      <td>300,00</td>\n",
              "      <td>Sim</td>\n",
              "    </tr>\n",
              "    <tr>\n",
              "      <th>8</th>\n",
              "      <td>9</td>\n",
              "      <td>109</td>\n",
              "      <td>Avançado</td>\n",
              "      <td>2022-04-25</td>\n",
              "      <td>2</td>\n",
              "      <td>Não</td>\n",
              "      <td>200,00</td>\n",
              "      <td>Não</td>\n",
              "    </tr>\n",
              "    <tr>\n",
              "      <th>9</th>\n",
              "      <td>10</td>\n",
              "      <td>110</td>\n",
              "      <td>Básico</td>\n",
              "      <td>2022-06-15</td>\n",
              "      <td>6</td>\n",
              "      <td>Não</td>\n",
              "      <td>150,00</td>\n",
              "      <td>Não</td>\n",
              "    </tr>\n",
              "    <tr>\n",
              "      <th>10</th>\n",
              "      <td>11</td>\n",
              "      <td>111</td>\n",
              "      <td>Básico</td>\n",
              "      <td>2022-01-25</td>\n",
              "      <td>5</td>\n",
              "      <td>Não</td>\n",
              "      <td>150,00</td>\n",
              "      <td>Não</td>\n",
              "    </tr>\n",
              "    <tr>\n",
              "      <th>11</th>\n",
              "      <td>12</td>\n",
              "      <td>112</td>\n",
              "      <td>Premium</td>\n",
              "      <td>2021-10-10</td>\n",
              "      <td>10</td>\n",
              "      <td>Sim</td>\n",
              "      <td>300,00</td>\n",
              "      <td>Não</td>\n",
              "    </tr>\n",
              "    <tr>\n",
              "      <th>12</th>\n",
              "      <td>13</td>\n",
              "      <td>113</td>\n",
              "      <td>Avançado</td>\n",
              "      <td>2022-06-29</td>\n",
              "      <td>2</td>\n",
              "      <td>Não</td>\n",
              "      <td>200,00</td>\n",
              "      <td>Não</td>\n",
              "    </tr>\n",
              "    <tr>\n",
              "      <th>13</th>\n",
              "      <td>14</td>\n",
              "      <td>114</td>\n",
              "      <td>Premium</td>\n",
              "      <td>2022-01-04</td>\n",
              "      <td>3</td>\n",
              "      <td>Sim</td>\n",
              "      <td>300,00</td>\n",
              "      <td>Não</td>\n",
              "    </tr>\n",
              "    <tr>\n",
              "      <th>14</th>\n",
              "      <td>15</td>\n",
              "      <td>115</td>\n",
              "      <td>Avançado</td>\n",
              "      <td>2022-04-01</td>\n",
              "      <td>5</td>\n",
              "      <td>Sim</td>\n",
              "      <td>200,00</td>\n",
              "      <td>Não</td>\n",
              "    </tr>\n",
              "    <tr>\n",
              "      <th>15</th>\n",
              "      <td>16</td>\n",
              "      <td>116</td>\n",
              "      <td>Básico</td>\n",
              "      <td>2022-03-28</td>\n",
              "      <td>8</td>\n",
              "      <td>Não</td>\n",
              "      <td>150,00</td>\n",
              "      <td>Sim</td>\n",
              "    </tr>\n",
              "    <tr>\n",
              "      <th>16</th>\n",
              "      <td>17</td>\n",
              "      <td>117</td>\n",
              "      <td>Premium</td>\n",
              "      <td>2022-02-21</td>\n",
              "      <td>15</td>\n",
              "      <td>Sim</td>\n",
              "      <td>300,00</td>\n",
              "      <td>Não</td>\n",
              "    </tr>\n",
              "    <tr>\n",
              "      <th>17</th>\n",
              "      <td>18</td>\n",
              "      <td>118</td>\n",
              "      <td>Básico</td>\n",
              "      <td>2021-10-03</td>\n",
              "      <td>16</td>\n",
              "      <td>Não</td>\n",
              "      <td>150,00</td>\n",
              "      <td>Não</td>\n",
              "    </tr>\n",
              "    <tr>\n",
              "      <th>18</th>\n",
              "      <td>19</td>\n",
              "      <td>119</td>\n",
              "      <td>Premium</td>\n",
              "      <td>2022-07-14</td>\n",
              "      <td>0</td>\n",
              "      <td>Não</td>\n",
              "      <td>300,00</td>\n",
              "      <td>Sim</td>\n",
              "    </tr>\n",
              "    <tr>\n",
              "      <th>19</th>\n",
              "      <td>19</td>\n",
              "      <td>120</td>\n",
              "      <td>Premium</td>\n",
              "      <td>2022-07-14</td>\n",
              "      <td>0</td>\n",
              "      <td>Não</td>\n",
              "      <td>300,00</td>\n",
              "      <td>Sim</td>\n",
              "    </tr>\n",
              "    <tr>\n",
              "      <th>20</th>\n",
              "      <td>20</td>\n",
              "      <td>121</td>\n",
              "      <td>Básico</td>\n",
              "      <td>2022-01-25</td>\n",
              "      <td>8</td>\n",
              "      <td>Não</td>\n",
              "      <td>150,00</td>\n",
              "      <td>Não</td>\n",
              "    </tr>\n",
              "    <tr>\n",
              "      <th>21</th>\n",
              "      <td>21</td>\n",
              "      <td>122</td>\n",
              "      <td>Premium</td>\n",
              "      <td>2021-10-10</td>\n",
              "      <td>9</td>\n",
              "      <td>Sim</td>\n",
              "      <td>300,00</td>\n",
              "      <td>Não</td>\n",
              "    </tr>\n",
              "    <tr>\n",
              "      <th>22</th>\n",
              "      <td>22</td>\n",
              "      <td>123</td>\n",
              "      <td>Avançado</td>\n",
              "      <td>2022-06-29</td>\n",
              "      <td>10</td>\n",
              "      <td>Não</td>\n",
              "      <td>200,00</td>\n",
              "      <td>Sim</td>\n",
              "    </tr>\n",
              "    <tr>\n",
              "      <th>23</th>\n",
              "      <td>23</td>\n",
              "      <td>124</td>\n",
              "      <td>Básico</td>\n",
              "      <td>2022-01-04</td>\n",
              "      <td>1</td>\n",
              "      <td>Sim</td>\n",
              "      <td>150,00</td>\n",
              "      <td>Não</td>\n",
              "    </tr>\n",
              "    <tr>\n",
              "      <th>24</th>\n",
              "      <td>23</td>\n",
              "      <td>125</td>\n",
              "      <td>Básico</td>\n",
              "      <td>2022-01-04</td>\n",
              "      <td>7</td>\n",
              "      <td>Sim</td>\n",
              "      <td>150,00</td>\n",
              "      <td>Não</td>\n",
              "    </tr>\n",
              "    <tr>\n",
              "      <th>25</th>\n",
              "      <td>24</td>\n",
              "      <td>126</td>\n",
              "      <td>Avançado</td>\n",
              "      <td>2022-03-28</td>\n",
              "      <td>6</td>\n",
              "      <td>Não</td>\n",
              "      <td>200,00</td>\n",
              "      <td>Não</td>\n",
              "    </tr>\n",
              "    <tr>\n",
              "      <th>26</th>\n",
              "      <td>25</td>\n",
              "      <td>127</td>\n",
              "      <td>Básico</td>\n",
              "      <td>2022-02-21</td>\n",
              "      <td>8</td>\n",
              "      <td>Sim</td>\n",
              "      <td>150,00</td>\n",
              "      <td>Não</td>\n",
              "    </tr>\n",
              "    <tr>\n",
              "      <th>27</th>\n",
              "      <td>26</td>\n",
              "      <td>128</td>\n",
              "      <td>Premium</td>\n",
              "      <td>2021-10-03</td>\n",
              "      <td>9</td>\n",
              "      <td>Sim</td>\n",
              "      <td>300,00</td>\n",
              "      <td>Sim</td>\n",
              "    </tr>\n",
              "    <tr>\n",
              "      <th>28</th>\n",
              "      <td>26</td>\n",
              "      <td>129</td>\n",
              "      <td>Avançado</td>\n",
              "      <td>2022-07-14</td>\n",
              "      <td>10</td>\n",
              "      <td>Sim</td>\n",
              "      <td>200,00</td>\n",
              "      <td>Sim</td>\n",
              "    </tr>\n",
              "  </tbody>\n",
              "</table>\n",
              "</div>\n",
              "    <div class=\"colab-df-buttons\">\n",
              "\n",
              "  <div class=\"colab-df-container\">\n",
              "    <button class=\"colab-df-convert\" onclick=\"convertToInteractive('df-87560f67-dd86-453e-b920-ab90b17ce81e')\"\n",
              "            title=\"Convert this dataframe to an interactive table.\"\n",
              "            style=\"display:none;\">\n",
              "\n",
              "  <svg xmlns=\"http://www.w3.org/2000/svg\" height=\"24px\" viewBox=\"0 -960 960 960\">\n",
              "    <path d=\"M120-120v-720h720v720H120Zm60-500h600v-160H180v160Zm220 220h160v-160H400v160Zm0 220h160v-160H400v160ZM180-400h160v-160H180v160Zm440 0h160v-160H620v160ZM180-180h160v-160H180v160Zm440 0h160v-160H620v160Z\"/>\n",
              "  </svg>\n",
              "    </button>\n",
              "\n",
              "  <style>\n",
              "    .colab-df-container {\n",
              "      display:flex;\n",
              "      gap: 12px;\n",
              "    }\n",
              "\n",
              "    .colab-df-convert {\n",
              "      background-color: #E8F0FE;\n",
              "      border: none;\n",
              "      border-radius: 50%;\n",
              "      cursor: pointer;\n",
              "      display: none;\n",
              "      fill: #1967D2;\n",
              "      height: 32px;\n",
              "      padding: 0 0 0 0;\n",
              "      width: 32px;\n",
              "    }\n",
              "\n",
              "    .colab-df-convert:hover {\n",
              "      background-color: #E2EBFA;\n",
              "      box-shadow: 0px 1px 2px rgba(60, 64, 67, 0.3), 0px 1px 3px 1px rgba(60, 64, 67, 0.15);\n",
              "      fill: #174EA6;\n",
              "    }\n",
              "\n",
              "    .colab-df-buttons div {\n",
              "      margin-bottom: 4px;\n",
              "    }\n",
              "\n",
              "    [theme=dark] .colab-df-convert {\n",
              "      background-color: #3B4455;\n",
              "      fill: #D2E3FC;\n",
              "    }\n",
              "\n",
              "    [theme=dark] .colab-df-convert:hover {\n",
              "      background-color: #434B5C;\n",
              "      box-shadow: 0px 1px 3px 1px rgba(0, 0, 0, 0.15);\n",
              "      filter: drop-shadow(0px 1px 2px rgba(0, 0, 0, 0.3));\n",
              "      fill: #FFFFFF;\n",
              "    }\n",
              "  </style>\n",
              "\n",
              "    <script>\n",
              "      const buttonEl =\n",
              "        document.querySelector('#df-87560f67-dd86-453e-b920-ab90b17ce81e button.colab-df-convert');\n",
              "      buttonEl.style.display =\n",
              "        google.colab.kernel.accessAllowed ? 'block' : 'none';\n",
              "\n",
              "      async function convertToInteractive(key) {\n",
              "        const element = document.querySelector('#df-87560f67-dd86-453e-b920-ab90b17ce81e');\n",
              "        const dataTable =\n",
              "          await google.colab.kernel.invokeFunction('convertToInteractive',\n",
              "                                                    [key], {});\n",
              "        if (!dataTable) return;\n",
              "\n",
              "        const docLinkHtml = 'Like what you see? Visit the ' +\n",
              "          '<a target=\"_blank\" href=https://colab.research.google.com/notebooks/data_table.ipynb>data table notebook</a>'\n",
              "          + ' to learn more about interactive tables.';\n",
              "        element.innerHTML = '';\n",
              "        dataTable['output_type'] = 'display_data';\n",
              "        await google.colab.output.renderOutput(dataTable, element);\n",
              "        const docLink = document.createElement('div');\n",
              "        docLink.innerHTML = docLinkHtml;\n",
              "        element.appendChild(docLink);\n",
              "      }\n",
              "    </script>\n",
              "  </div>\n",
              "\n",
              "\n",
              "<div id=\"df-29a20151-6a81-420c-8a74-ab9c4273b84b\">\n",
              "  <button class=\"colab-df-quickchart\" onclick=\"quickchart('df-29a20151-6a81-420c-8a74-ab9c4273b84b')\"\n",
              "            title=\"Suggest charts\"\n",
              "            style=\"display:none;\">\n",
              "\n",
              "<svg xmlns=\"http://www.w3.org/2000/svg\" height=\"24px\"viewBox=\"0 0 24 24\"\n",
              "     width=\"24px\">\n",
              "    <g>\n",
              "        <path d=\"M19 3H5c-1.1 0-2 .9-2 2v14c0 1.1.9 2 2 2h14c1.1 0 2-.9 2-2V5c0-1.1-.9-2-2-2zM9 17H7v-7h2v7zm4 0h-2V7h2v10zm4 0h-2v-4h2v4z\"/>\n",
              "    </g>\n",
              "</svg>\n",
              "  </button>\n",
              "\n",
              "<style>\n",
              "  .colab-df-quickchart {\n",
              "      --bg-color: #E8F0FE;\n",
              "      --fill-color: #1967D2;\n",
              "      --hover-bg-color: #E2EBFA;\n",
              "      --hover-fill-color: #174EA6;\n",
              "      --disabled-fill-color: #AAA;\n",
              "      --disabled-bg-color: #DDD;\n",
              "  }\n",
              "\n",
              "  [theme=dark] .colab-df-quickchart {\n",
              "      --bg-color: #3B4455;\n",
              "      --fill-color: #D2E3FC;\n",
              "      --hover-bg-color: #434B5C;\n",
              "      --hover-fill-color: #FFFFFF;\n",
              "      --disabled-bg-color: #3B4455;\n",
              "      --disabled-fill-color: #666;\n",
              "  }\n",
              "\n",
              "  .colab-df-quickchart {\n",
              "    background-color: var(--bg-color);\n",
              "    border: none;\n",
              "    border-radius: 50%;\n",
              "    cursor: pointer;\n",
              "    display: none;\n",
              "    fill: var(--fill-color);\n",
              "    height: 32px;\n",
              "    padding: 0;\n",
              "    width: 32px;\n",
              "  }\n",
              "\n",
              "  .colab-df-quickchart:hover {\n",
              "    background-color: var(--hover-bg-color);\n",
              "    box-shadow: 0 1px 2px rgba(60, 64, 67, 0.3), 0 1px 3px 1px rgba(60, 64, 67, 0.15);\n",
              "    fill: var(--button-hover-fill-color);\n",
              "  }\n",
              "\n",
              "  .colab-df-quickchart-complete:disabled,\n",
              "  .colab-df-quickchart-complete:disabled:hover {\n",
              "    background-color: var(--disabled-bg-color);\n",
              "    fill: var(--disabled-fill-color);\n",
              "    box-shadow: none;\n",
              "  }\n",
              "\n",
              "  .colab-df-spinner {\n",
              "    border: 2px solid var(--fill-color);\n",
              "    border-color: transparent;\n",
              "    border-bottom-color: var(--fill-color);\n",
              "    animation:\n",
              "      spin 1s steps(1) infinite;\n",
              "  }\n",
              "\n",
              "  @keyframes spin {\n",
              "    0% {\n",
              "      border-color: transparent;\n",
              "      border-bottom-color: var(--fill-color);\n",
              "      border-left-color: var(--fill-color);\n",
              "    }\n",
              "    20% {\n",
              "      border-color: transparent;\n",
              "      border-left-color: var(--fill-color);\n",
              "      border-top-color: var(--fill-color);\n",
              "    }\n",
              "    30% {\n",
              "      border-color: transparent;\n",
              "      border-left-color: var(--fill-color);\n",
              "      border-top-color: var(--fill-color);\n",
              "      border-right-color: var(--fill-color);\n",
              "    }\n",
              "    40% {\n",
              "      border-color: transparent;\n",
              "      border-right-color: var(--fill-color);\n",
              "      border-top-color: var(--fill-color);\n",
              "    }\n",
              "    60% {\n",
              "      border-color: transparent;\n",
              "      border-right-color: var(--fill-color);\n",
              "    }\n",
              "    80% {\n",
              "      border-color: transparent;\n",
              "      border-right-color: var(--fill-color);\n",
              "      border-bottom-color: var(--fill-color);\n",
              "    }\n",
              "    90% {\n",
              "      border-color: transparent;\n",
              "      border-bottom-color: var(--fill-color);\n",
              "    }\n",
              "  }\n",
              "</style>\n",
              "\n",
              "  <script>\n",
              "    async function quickchart(key) {\n",
              "      const quickchartButtonEl =\n",
              "        document.querySelector('#' + key + ' button');\n",
              "      quickchartButtonEl.disabled = true;  // To prevent multiple clicks.\n",
              "      quickchartButtonEl.classList.add('colab-df-spinner');\n",
              "      try {\n",
              "        const charts = await google.colab.kernel.invokeFunction(\n",
              "            'suggestCharts', [key], {});\n",
              "      } catch (error) {\n",
              "        console.error('Error during call to suggestCharts:', error);\n",
              "      }\n",
              "      quickchartButtonEl.classList.remove('colab-df-spinner');\n",
              "      quickchartButtonEl.classList.add('colab-df-quickchart-complete');\n",
              "    }\n",
              "    (() => {\n",
              "      let quickchartButtonEl =\n",
              "        document.querySelector('#df-29a20151-6a81-420c-8a74-ab9c4273b84b button');\n",
              "      quickchartButtonEl.style.display =\n",
              "        google.colab.kernel.accessAllowed ? 'block' : 'none';\n",
              "    })();\n",
              "  </script>\n",
              "</div>\n",
              "\n",
              "  <div id=\"id_6c82a6d3-b8d6-48d1-a42e-3d46392f265f\">\n",
              "    <style>\n",
              "      .colab-df-generate {\n",
              "        background-color: #E8F0FE;\n",
              "        border: none;\n",
              "        border-radius: 50%;\n",
              "        cursor: pointer;\n",
              "        display: none;\n",
              "        fill: #1967D2;\n",
              "        height: 32px;\n",
              "        padding: 0 0 0 0;\n",
              "        width: 32px;\n",
              "      }\n",
              "\n",
              "      .colab-df-generate:hover {\n",
              "        background-color: #E2EBFA;\n",
              "        box-shadow: 0px 1px 2px rgba(60, 64, 67, 0.3), 0px 1px 3px 1px rgba(60, 64, 67, 0.15);\n",
              "        fill: #174EA6;\n",
              "      }\n",
              "\n",
              "      [theme=dark] .colab-df-generate {\n",
              "        background-color: #3B4455;\n",
              "        fill: #D2E3FC;\n",
              "      }\n",
              "\n",
              "      [theme=dark] .colab-df-generate:hover {\n",
              "        background-color: #434B5C;\n",
              "        box-shadow: 0px 1px 3px 1px rgba(0, 0, 0, 0.15);\n",
              "        filter: drop-shadow(0px 1px 2px rgba(0, 0, 0, 0.3));\n",
              "        fill: #FFFFFF;\n",
              "      }\n",
              "    </style>\n",
              "    <button class=\"colab-df-generate\" onclick=\"generateWithVariable('db')\"\n",
              "            title=\"Generate code using this dataframe.\"\n",
              "            style=\"display:none;\">\n",
              "\n",
              "  <svg xmlns=\"http://www.w3.org/2000/svg\" height=\"24px\"viewBox=\"0 0 24 24\"\n",
              "       width=\"24px\">\n",
              "    <path d=\"M7,19H8.4L18.45,9,17,7.55,7,17.6ZM5,21V16.75L18.45,3.32a2,2,0,0,1,2.83,0l1.4,1.43a1.91,1.91,0,0,1,.58,1.4,1.91,1.91,0,0,1-.58,1.4L9.25,21ZM18.45,9,17,7.55Zm-12,3A5.31,5.31,0,0,0,4.9,8.1,5.31,5.31,0,0,0,1,6.5,5.31,5.31,0,0,0,4.9,4.9,5.31,5.31,0,0,0,6.5,1,5.31,5.31,0,0,0,8.1,4.9,5.31,5.31,0,0,0,12,6.5,5.46,5.46,0,0,0,6.5,12Z\"/>\n",
              "  </svg>\n",
              "    </button>\n",
              "    <script>\n",
              "      (() => {\n",
              "      const buttonEl =\n",
              "        document.querySelector('#id_6c82a6d3-b8d6-48d1-a42e-3d46392f265f button.colab-df-generate');\n",
              "      buttonEl.style.display =\n",
              "        google.colab.kernel.accessAllowed ? 'block' : 'none';\n",
              "\n",
              "      buttonEl.onclick = () => {\n",
              "        google.colab.notebook.generateWithVariable('db');\n",
              "      }\n",
              "      })();\n",
              "    </script>\n",
              "  </div>\n",
              "\n",
              "    </div>\n",
              "  </div>\n"
            ],
            "application/vnd.google.colaboratory.intrinsic+json": {
              "type": "dataframe",
              "variable_name": "db",
              "summary": "{\n  \"name\": \"db\",\n  \"rows\": 29,\n  \"fields\": [\n    {\n      \"column\": \"Cliente ID\",\n      \"properties\": {\n        \"dtype\": \"number\",\n        \"std\": 7,\n        \"min\": 1,\n        \"max\": 26,\n        \"num_unique_values\": 26,\n        \"samples\": [\n          9,\n          17,\n          1\n        ],\n        \"semantic_type\": \"\",\n        \"description\": \"\"\n      }\n    },\n    {\n      \"column\": \"Pet ID\",\n      \"properties\": {\n        \"dtype\": \"number\",\n        \"std\": 8,\n        \"min\": 101,\n        \"max\": 129,\n        \"num_unique_values\": 29,\n        \"samples\": [\n          128,\n          117,\n          113\n        ],\n        \"semantic_type\": \"\",\n        \"description\": \"\"\n      }\n    },\n    {\n      \"column\": \"Plano Atual\",\n      \"properties\": {\n        \"dtype\": \"category\",\n        \"num_unique_values\": 3,\n        \"samples\": [\n          \"B\\u00e1sico\",\n          \"Premium\",\n          \"Avan\\u00e7ado\"\n        ],\n        \"semantic_type\": \"\",\n        \"description\": \"\"\n      }\n    },\n    {\n      \"column\": \"Data de Ades\\u00e3o\",\n      \"properties\": {\n        \"dtype\": \"date\",\n        \"min\": \"2021-08-14 00:00:00\",\n        \"max\": \"2022-07-14 00:00:00\",\n        \"num_unique_values\": 19,\n        \"samples\": [\n          \"2022-01-15 00:00:00\",\n          \"2022-03-18 00:00:00\",\n          \"2021-10-10 00:00:00\"\n        ],\n        \"semantic_type\": \"\",\n        \"description\": \"\"\n      }\n    },\n    {\n      \"column\": \"N\\u00famero de Consultas\",\n      \"properties\": {\n        \"dtype\": \"number\",\n        \"std\": 4,\n        \"min\": 0,\n        \"max\": 16,\n        \"num_unique_values\": 15,\n        \"samples\": [\n          6,\n          15,\n          5\n        ],\n        \"semantic_type\": \"\",\n        \"description\": \"\"\n      }\n    },\n    {\n      \"column\": \"Uso de Servi\\u00e7os Adicionais\",\n      \"properties\": {\n        \"dtype\": \"category\",\n        \"num_unique_values\": 2,\n        \"samples\": [\n          \"N\\u00e3o\",\n          \"Sim\"\n        ],\n        \"semantic_type\": \"\",\n        \"description\": \"\"\n      }\n    },\n    {\n      \"column\": \"Valor Mensal (R$)\",\n      \"properties\": {\n        \"dtype\": \"category\",\n        \"num_unique_values\": 3,\n        \"samples\": [\n          \"150,00\",\n          \"300,00\"\n        ],\n        \"semantic_type\": \"\",\n        \"description\": \"\"\n      }\n    },\n    {\n      \"column\": \"Cancelamento (Sim/N\\u00e3o)\",\n      \"properties\": {\n        \"dtype\": \"category\",\n        \"num_unique_values\": 2,\n        \"samples\": [\n          \"Sim\",\n          \"N\\u00e3o\"\n        ],\n        \"semantic_type\": \"\",\n        \"description\": \"\"\n      }\n    }\n  ]\n}"
            }
          },
          "metadata": {},
          "execution_count": 92
        }
      ]
    },
    {
      "cell_type": "code",
      "source": [
        "# Visualizando o tamanho do dataframe (Linhas x Colunas)\n",
        "db.shape"
      ],
      "metadata": {
        "id": "q6DoOv-ezq_m",
        "colab": {
          "base_uri": "https://localhost:8080/"
        },
        "outputId": "cfcdd383-907f-43c5-f791-15526347ed3b"
      },
      "execution_count": null,
      "outputs": [
        {
          "output_type": "execute_result",
          "data": {
            "text/plain": [
              "(29, 8)"
            ]
          },
          "metadata": {},
          "execution_count": 93
        }
      ]
    },
    {
      "cell_type": "markdown",
      "source": [
        "Podemos observar o conjunto de dados que iremos trabalhar é \"pequeno\" possuindo apenas 29 linhas e 8 colunas, vamos explorar mais para compreender melhor nossos dados."
      ],
      "metadata": {
        "id": "GTRRuSkWzmPn"
      }
    },
    {
      "cell_type": "code",
      "source": [
        "# Visualizando as variáveis do dataframe\n",
        "pd.set_option('display.float_format', '{:.2f}'.format)\n",
        "db.columns"
      ],
      "metadata": {
        "id": "LC4aHju-B1--",
        "colab": {
          "base_uri": "https://localhost:8080/"
        },
        "outputId": "fba52630-6287-4ad1-dd2a-186d25213bde"
      },
      "execution_count": null,
      "outputs": [
        {
          "output_type": "execute_result",
          "data": {
            "text/plain": [
              "Index(['Cliente ID', 'Pet ID', 'Plano Atual', 'Data de Adesão',\n",
              "       'Número de Consultas', 'Uso de Serviços Adicionais',\n",
              "       'Valor Mensal (R$)', 'Cancelamento (Sim/Não)'],\n",
              "      dtype='object')"
            ]
          },
          "metadata": {},
          "execution_count": 94
        }
      ]
    },
    {
      "cell_type": "markdown",
      "source": [
        "Aqui podemos visualizar as variáveis dos nossos dados no dataframe"
      ],
      "metadata": {
        "id": "HaDljyZFCHnw"
      }
    },
    {
      "cell_type": "code",
      "source": [
        "# Analisando os tipos de dados que contem no arquivo da base de dados\n",
        "db.info()"
      ],
      "metadata": {
        "id": "RCNTjRi8CDef",
        "colab": {
          "base_uri": "https://localhost:8080/"
        },
        "outputId": "59695b48-31eb-4813-fc28-01e25e38fe75"
      },
      "execution_count": null,
      "outputs": [
        {
          "output_type": "stream",
          "name": "stdout",
          "text": [
            "<class 'pandas.core.frame.DataFrame'>\n",
            "RangeIndex: 29 entries, 0 to 28\n",
            "Data columns (total 8 columns):\n",
            " #   Column                      Non-Null Count  Dtype         \n",
            "---  ------                      --------------  -----         \n",
            " 0   Cliente ID                  29 non-null     int64         \n",
            " 1   Pet ID                      29 non-null     int64         \n",
            " 2   Plano Atual                 29 non-null     object        \n",
            " 3   Data de Adesão              29 non-null     datetime64[ns]\n",
            " 4   Número de Consultas         29 non-null     int64         \n",
            " 5   Uso de Serviços Adicionais  29 non-null     object        \n",
            " 6   Valor Mensal (R$)           29 non-null     object        \n",
            " 7   Cancelamento (Sim/Não)      29 non-null     object        \n",
            "dtypes: datetime64[ns](1), int64(3), object(4)\n",
            "memory usage: 1.9+ KB\n"
          ]
        }
      ]
    },
    {
      "cell_type": "code",
      "source": [
        "# Visualizando as variáveis categóricas e númericas\n",
        "categorical = db.columns[db.dtypes==object].tolist()\n",
        "total_categorical = len(categorical)\n",
        "numerical = db.columns[db.dtypes!=object].tolist()\n",
        "total_numerical = len(numerical)\n",
        "print('------ Variáveis Categóricas ------ \\n ► Total:', total_categorical,'\\n ► Variáveis:', categorical)\n",
        "print('\\n ------ Variáveis Numerical ------ \\n ► Total:', total_numerical,'\\n ► Variáveis:', numerical)"
      ],
      "metadata": {
        "id": "WXYVDTqxDCPD",
        "colab": {
          "base_uri": "https://localhost:8080/"
        },
        "outputId": "0a307513-b1ce-47b0-fe1c-c54a595a5f00"
      },
      "execution_count": null,
      "outputs": [
        {
          "output_type": "stream",
          "name": "stdout",
          "text": [
            "------ Variáveis Categóricas ------ \n",
            " ► Total: 4 \n",
            " ► Variáveis: ['Plano Atual', 'Uso de Serviços Adicionais', 'Valor Mensal (R$)', 'Cancelamento (Sim/Não)']\n",
            "\n",
            " ------ Variáveis Numerical ------ \n",
            " ► Total: 4 \n",
            " ► Variáveis: ['Cliente ID', 'Pet ID', 'Data de Adesão', 'Número de Consultas']\n"
          ]
        }
      ]
    },
    {
      "cell_type": "markdown",
      "source": [
        "Aqui estamos observando o tipo de dados de cada variável, e identificamos que possuímos 4 variáveis do tipo categórica e 4 variáveis númericas. Um adendo que `datetime` é considerada uma variável temporal e geralmente tratada como numérica para fins de manipulação e cálculos."
      ],
      "metadata": {
        "id": "mtWHNsT7CRJi"
      }
    },
    {
      "cell_type": "code",
      "source": [
        "db.isnull().sum()"
      ],
      "metadata": {
        "id": "z3_RB-cCDwHO",
        "colab": {
          "base_uri": "https://localhost:8080/",
          "height": 335
        },
        "outputId": "e6d982d2-b7b4-4895-fc67-fd09d8c1dad6"
      },
      "execution_count": null,
      "outputs": [
        {
          "output_type": "execute_result",
          "data": {
            "text/plain": [
              "Cliente ID                    0\n",
              "Pet ID                        0\n",
              "Plano Atual                   0\n",
              "Data de Adesão                0\n",
              "Número de Consultas           0\n",
              "Uso de Serviços Adicionais    0\n",
              "Valor Mensal (R$)             0\n",
              "Cancelamento (Sim/Não)        0\n",
              "dtype: int64"
            ],
            "text/html": [
              "<div>\n",
              "<style scoped>\n",
              "    .dataframe tbody tr th:only-of-type {\n",
              "        vertical-align: middle;\n",
              "    }\n",
              "\n",
              "    .dataframe tbody tr th {\n",
              "        vertical-align: top;\n",
              "    }\n",
              "\n",
              "    .dataframe thead th {\n",
              "        text-align: right;\n",
              "    }\n",
              "</style>\n",
              "<table border=\"1\" class=\"dataframe\">\n",
              "  <thead>\n",
              "    <tr style=\"text-align: right;\">\n",
              "      <th></th>\n",
              "      <th>0</th>\n",
              "    </tr>\n",
              "  </thead>\n",
              "  <tbody>\n",
              "    <tr>\n",
              "      <th>Cliente ID</th>\n",
              "      <td>0</td>\n",
              "    </tr>\n",
              "    <tr>\n",
              "      <th>Pet ID</th>\n",
              "      <td>0</td>\n",
              "    </tr>\n",
              "    <tr>\n",
              "      <th>Plano Atual</th>\n",
              "      <td>0</td>\n",
              "    </tr>\n",
              "    <tr>\n",
              "      <th>Data de Adesão</th>\n",
              "      <td>0</td>\n",
              "    </tr>\n",
              "    <tr>\n",
              "      <th>Número de Consultas</th>\n",
              "      <td>0</td>\n",
              "    </tr>\n",
              "    <tr>\n",
              "      <th>Uso de Serviços Adicionais</th>\n",
              "      <td>0</td>\n",
              "    </tr>\n",
              "    <tr>\n",
              "      <th>Valor Mensal (R$)</th>\n",
              "      <td>0</td>\n",
              "    </tr>\n",
              "    <tr>\n",
              "      <th>Cancelamento (Sim/Não)</th>\n",
              "      <td>0</td>\n",
              "    </tr>\n",
              "  </tbody>\n",
              "</table>\n",
              "</div><br><label><b>dtype:</b> int64</label>"
            ]
          },
          "metadata": {},
          "execution_count": 97
        }
      ]
    },
    {
      "cell_type": "markdown",
      "source": [
        "Visto que o método isnull auxilia a identificar variáveis que possuem elementos como (NaN, None, Null), esse tipo de dado é um missing value, que traduzido para o português significa valores nulos, ou seja, quando não possui nenhum dado. Como podemos ver, os resultados indicam que não possuímos valores ausentes em nossos dados. Diante desse contexto, podemos dar prosseguimento. Caso existissem dados faltosos, dependendo do contexto do dataframe, poderíamos realizar algum método como imputação, remoção ou até mesmo a utilização de algum algoritmo para que os dados sejam consistentes e não impactem negativamente nas análises."
      ],
      "metadata": {
        "id": "Yuc1EpB2DzPi"
      }
    },
    {
      "cell_type": "markdown",
      "source": [
        "Nosso próximo passo é verificar se existem outliers. Antes de tudo, precisamos saber o que é um outlier? De forma resumida, um outlier é um valor atípico que se desvia de forma significativa em relação ao conjunto de dados. Esses valores podem influenciar bastante a análise de dados e os modelos preditivos. Diante dos nossos dados, como é um conjunto pequeno e visto de forma manual, não existem outliers, pois os valores dos planos possuem um padrão, sendo eles: plano Básico custando R\\$150,00, Avançado R\\$200,00 e Premium R\\$300,00. Ademais, se o conjunto de dados possuir um volume significativo, não é viável e nem recomendado realizar isso manualmente, pois existe o risco de ocorrer erros, por exemplo não identificar outliers a olho humano e outras causas possíveis impactando diretamente nas análises."
      ],
      "metadata": {
        "id": "Xy-P28faFKDY"
      }
    },
    {
      "cell_type": "code",
      "source": [
        "db['Valor Mensal (R$)'] = db['Valor Mensal (R$)'].replace({',': '.'}, regex=True).astype(float)\n",
        "renda_mensal = db['Valor Mensal (R$)']\n",
        "\n",
        "Q1 = np.percentile(renda_mensal, 25)\n",
        "Q3 = np.percentile(renda_mensal, 75)\n",
        "\n",
        "IQR = Q3 - Q1\n",
        "\n",
        "limite_inferior = Q1 - 1.5 * IQR\n",
        "limite_superior = Q3 + 1.5 * IQR\n",
        "\n",
        "print(f\"Q1 (25º percentil): {Q1}\")\n",
        "print(f\"Q3 (75º percentil): {Q3}\")\n",
        "print(f\"IQR: {IQR}\")\n",
        "print(f\"Limite Inferior: {limite_inferior}\")\n",
        "print(f\"Limite Superior: {limite_superior}\")\n",
        "\n",
        "outliers = [renda for renda in renda_mensal if renda < limite_inferior or renda > limite_superior]\n",
        "print(f\"Outliers: {outliers}\")\n"
      ],
      "metadata": {
        "colab": {
          "base_uri": "https://localhost:8080/"
        },
        "id": "kZJu79bBbI9C",
        "outputId": "6ff444a7-8759-4940-d8f9-1641119af0c6"
      },
      "execution_count": null,
      "outputs": [
        {
          "output_type": "stream",
          "name": "stdout",
          "text": [
            "Q1 (25º percentil): 150.0\n",
            "Q3 (75º percentil): 300.0\n",
            "IQR: 150.0\n",
            "Limite Inferior: -75.0\n",
            "Limite Superior: 525.0\n",
            "Outliers: []\n"
          ]
        }
      ]
    },
    {
      "cell_type": "markdown",
      "source": [
        " Mesmo nosso conjunto sendo pequeno iremos conferir se realmente não existem outliars, iremos utilizar o método estatístico para identificar os outliers: o IQR (Intervalo Interquartil), que informa a dispersão de um conjunto de dados, ou seja, analisa as variáveis entre os quartis, que dividem o conjunto de dados em quatro partes iguais. Com esse método aplicado, podemos calcular os limites inferiores e superiores para identificar esses \"dados fora do padrão\", ou seja, valores que estão fora do intervalo entre `Q1 - 1.5 * IQR e Q3 + 1.5 * IQR.` Ao aplicar essa forma, verificamos que não existem outliers em nosso conjunto de dados, já que todos os valores estão dentro dos limites calculados."
      ],
      "metadata": {
        "id": "0jI_8yy9b7LV"
      }
    },
    {
      "cell_type": "code",
      "source": [
        "db['Cancelamento (Sim/Não)'].unique()"
      ],
      "metadata": {
        "id": "irsWL9H4vTBW",
        "colab": {
          "base_uri": "https://localhost:8080/"
        },
        "outputId": "b31c7720-4560-4138-9d53-eb5d54e6c84a"
      },
      "execution_count": null,
      "outputs": [
        {
          "output_type": "execute_result",
          "data": {
            "text/plain": [
              "array(['Não', 'Sim'], dtype=object)"
            ]
          },
          "metadata": {},
          "execution_count": 99
        }
      ]
    },
    {
      "cell_type": "code",
      "source": [
        "db_modificado = db\n",
        "encoder = LabelEncoder()\n",
        "db_modificado[\"Plano Atual\"] = encoder.fit_transform(db_modificado[\"Plano Atual\"])\n",
        "db_modificado[\"Cancelamento (Sim/Não)\"] = encoder.fit_transform(db_modificado[\"Cancelamento (Sim/Não)\"])\n",
        "db_modificado[\"Uso de Serviços Adicionais\"] = encoder.fit_transform(db_modificado[\"Uso de Serviços Adicionais\"])"
      ],
      "metadata": {
        "id": "S_WqAC4iRxBH"
      },
      "execution_count": null,
      "outputs": []
    },
    {
      "cell_type": "markdown",
      "source": [
        "Foi realizada uma alteração nos dados de algumas variáveis, convertendo-as para formato binário. As variáveis `Cancelamento (Sim/Não)` e `Uso de Serviços Adicionais` foram transformadas para valores binários. Além disso, foi utilizado o LabelEncoder para codificar a coluna `Plano Atual`, que contém categorias. O código abaixo aplica o LabelEncoder nas variáveis mencionadas para transformá-las em valores numéricos, permitindo que sejam processadas em modelos de aprendizado de máquina.\n"
      ],
      "metadata": {
        "id": "aBY7DUvkfpQp"
      }
    },
    {
      "cell_type": "code",
      "source": [
        "db_modificado[\"Data de Adesão\"] = pd.to_datetime(db_modificado[\"Data de Adesão\"], errors='coerce')\n",
        "hoje = pd.to_datetime(\"today\")\n",
        "db_modificado[\"Tempo de Permanência\"] = (hoje - db_modificado[\"Data de Adesão\"]).dt.days // 30\n",
        "db_modificado[\"Tempo de Permanência\"] = db_modificado[\"Tempo de Permanência\"].fillna(0)"
      ],
      "metadata": {
        "id": "2XkZRRi5T1XM"
      },
      "execution_count": null,
      "outputs": []
    },
    {
      "cell_type": "markdown",
      "source": [
        "Foi realizado o cálculo do tempo de permanência do cliente com seu plano atual. Como apenas a data de adesão estava disponível, foi calculada a diferença em meses entre a data de adesão e a data atual."
      ],
      "metadata": {
        "id": "eP9dtqrufKMg"
      }
    },
    {
      "cell_type": "code",
      "source": [
        "# Removerndo a vírgula e convertendo para float\n",
        "db_modificado['Valor Mensal (R$)'] = db_modificado['Valor Mensal (R$)'].replace({',': '.'}, regex=True).astype(float)"
      ],
      "metadata": {
        "id": "8j3WDn6IXSgK"
      },
      "execution_count": null,
      "outputs": []
    },
    {
      "cell_type": "code",
      "source": [
        "from imblearn.over_sampling import SMOTE\n",
        "from sklearn.neighbors import KNeighborsClassifier\n",
        "from sklearn.model_selection import train_test_split\n",
        "from sklearn.metrics import classification_report\n",
        "\n",
        "X = db_modificado[['Plano Atual', 'Número de Consultas', 'Uso de Serviços Adicionais', 'Valor Mensal (R$)', 'Tempo de Permanência']]\n",
        "y = db_modificado['Cancelamento (Sim/Não)']\n",
        "\n",
        "X_train, X_test, y_train, y_test = train_test_split(X, y, test_size=0.2, random_state=42)\n",
        "\n",
        "smote = SMOTE(sampling_strategy='auto', random_state=42)\n",
        "X_res, y_res = smote.fit_resample(X_train, y_train)\n",
        "\n",
        "\n",
        "knn = KNeighborsClassifier(n_neighbors=3, weights='distance', metric='chebyshev')\n",
        "knn.fit(X_res, y_res)\n",
        "\n",
        "y_pred = knn.predict(X_test)\n",
        "print(classification_report(y_test, y_pred))\n"
      ],
      "metadata": {
        "id": "69PTJXHNB7Az",
        "colab": {
          "base_uri": "https://localhost:8080/"
        },
        "outputId": "9dfdf9f8-d93f-4bc2-db50-5cacd3e60991"
      },
      "execution_count": null,
      "outputs": [
        {
          "output_type": "stream",
          "name": "stdout",
          "text": [
            "              precision    recall  f1-score   support\n",
            "\n",
            "           0       0.67      0.50      0.57         4\n",
            "           1       0.33      0.50      0.40         2\n",
            "\n",
            "    accuracy                           0.50         6\n",
            "   macro avg       0.50      0.50      0.49         6\n",
            "weighted avg       0.56      0.50      0.51         6\n",
            "\n"
          ]
        }
      ]
    },
    {
      "cell_type": "markdown",
      "source": [
        "O modelo escolhido teve o melhor desempenho entre os algoritmos testados e foi analisado para nosso problema. Foram utilizadas técnicas de balanceamento das classes, classificação e avaliação de desempenho. Como o nosso conjunto de dados é pequeno, houve dificuldades em alcançar uma acurácia maior.\n",
        "\n",
        "Foi utilizada a técnica de oversampling, que funciona gerando novos exemplos sintéticos para a classe menor, com a intenção de balancear o conjunto de dados. Como nosso conjunto é reduzido, essa abordagem foi essencial para melhorar a representatividade dos dados.\n",
        "\n",
        "O classificador escolhido foi o KNN (K-Nearest Neighbors), que faz previsões com base nos vizinhos mais próximos de um ponto. Esse modelo foi utilizado para prever se o cliente irá cancelar ou não seu serviço. A classe 0 representa \"Não Cancelou\" e a classe 1 representa \"Cancelou\".\n",
        "\n",
        "Concluindo, o modelo apresenta uma acurácia de 50%, o que indica que ele acerta metade das previsões. A baixa precisão para a classe 1 (Cancelamento), que é de 33%, sugere que o modelo tem dificuldade em prever corretamente os clientes que irão cancelar. Além disso, o recall de 50% para ambas as classes significa que o modelo identifica metade dos casos de cancelamento e não cancelamento corretamente.\n",
        "\n",
        "Dado esse desempenho, podemos concluir que há um risco moderado de erro ao prever o cancelamento dos clientes. Isso significa que o modelo pode tanto deixar de identificar clientes que realmente irão cancelar (falso negativo) quanto classificar incorretamente clientes que não cancelariam (falso positivo). Diante dessas informações, iremos nos aprofundar melhor nas análises e fazer a visualização de dados no Looker Data Studio.\n",
        "\n"
      ],
      "metadata": {
        "id": "Y-Al-lQNYF-J"
      }
    },
    {
      "cell_type": "markdown",
      "source": [
        "Para facilitar e automatizar o processo, vamos implementar um sistema que envia os dados diretamente para uma planilha no Google Drive, garantindo que ela seja atualizada automaticamente sempre que houver alguma alteração nos dados e enviados para o Looker Data Studio"
      ],
      "metadata": {
        "id": "0zg2j9O0YH_O"
      }
    },
    {
      "cell_type": "code",
      "source": [
        "db_modificado['Data de Adesão'] = db_modificado['Data de Adesão'].dt.strftime('%Y-%m-%d')"
      ],
      "metadata": {
        "id": "6n8YHK4jq98I"
      },
      "execution_count": null,
      "outputs": []
    },
    {
      "cell_type": "code",
      "source": [
        "resume = '/content/drive/MyDrive/Petlove/petlove.gsheet'\n",
        "id_file_resume = get_id(resume)\n",
        "print(id_file_resume)\n"
      ],
      "metadata": {
        "id": "b-5WNahLe51z",
        "colab": {
          "base_uri": "https://localhost:8080/"
        },
        "outputId": "8ac59c55-57ec-4f04-f5cc-2b93dd8c862a"
      },
      "execution_count": null,
      "outputs": [
        {
          "output_type": "stream",
          "name": "stdout",
          "text": [
            "1t-7AKghdjptgGf9GRETJ9ep__w1pua4dnIuQ_58oseM\n"
          ]
        }
      ]
    },
    {
      "cell_type": "code",
      "source": [
        "sheet_resume = gc.open_by_key(id_file_resume).sheet1\n",
        "sheet_resume.update([db_modificado.columns.values.tolist()] + db_modificado.values.tolist())\n"
      ],
      "metadata": {
        "id": "qDFWuLF-nVtx",
        "colab": {
          "base_uri": "https://localhost:8080/"
        },
        "outputId": "92c97099-0676-4db2-b4cb-a39c937179e2"
      },
      "execution_count": null,
      "outputs": [
        {
          "output_type": "execute_result",
          "data": {
            "text/plain": [
              "{'spreadsheetId': '1t-7AKghdjptgGf9GRETJ9ep__w1pua4dnIuQ_58oseM',\n",
              " 'updatedRange': \"'Página1'!A1:I30\",\n",
              " 'updatedRows': 30,\n",
              " 'updatedColumns': 9,\n",
              " 'updatedCells': 270}"
            ]
          },
          "metadata": {},
          "execution_count": 106
        }
      ]
    },
    {
      "cell_type": "code",
      "source": [
        "sheet_resume.update([db_modificado.columns.values.tolist()] + db_modificado.values.tolist())\n"
      ],
      "metadata": {
        "id": "nh6rU_UKpWAQ",
        "colab": {
          "base_uri": "https://localhost:8080/"
        },
        "outputId": "67f45183-c31c-4236-b71c-21973570182c"
      },
      "execution_count": null,
      "outputs": [
        {
          "output_type": "execute_result",
          "data": {
            "text/plain": [
              "{'spreadsheetId': '1t-7AKghdjptgGf9GRETJ9ep__w1pua4dnIuQ_58oseM',\n",
              " 'updatedRange': \"'Página1'!A1:I30\",\n",
              " 'updatedRows': 30,\n",
              " 'updatedColumns': 9,\n",
              " 'updatedCells': 270}"
            ]
          },
          "metadata": {},
          "execution_count": 107
        }
      ]
    },
    {
      "cell_type": "markdown",
      "source": [
        "Com o objetivo de me desafiar irei utilizar outras ferramentas para realizar o nosso Dahboard, fazer por python é uma ótima opção também. Porém como quero me desafiar iremos construir nosso dash no Looker Data Studio, para acessar o dashboard só clicar no link abaixo.  \n",
        "\n",
        "# 📊 [**Dashboard**](https://lookerstudio.google.com/reporting/609177aa-5fde-42e4-8404-357627d8ac13)\n",
        "\n",
        " <div align=\"right\">\n",
        " Até logo, te encontro lá!\n",
        "  <img src=\"https://media2.giphy.com/media/Qp8JVw4n37No6spF3s/giphy.webp?cid=790b7611z77p0qsrdhqqr2eerqiy49mlu31i3q3l4d9hzj8n&ep=v1_stickers_search&rid=giphy.webp&ct=s\" width=\"150\">\n",
        "  \n",
        "</div>"
      ],
      "metadata": {
        "id": "3MafAAOItMUA"
      }
    }
  ]
}